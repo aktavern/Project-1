{
 "cells": [
  {
   "cell_type": "code",
   "execution_count": 1,
   "metadata": {},
   "outputs": [],
   "source": [
    "# import data and dependencies\n",
    "import matplotlib.pyplot as plt\n",
    "import pandas as pd\n",
    "import numpy as np\n",
    "from pprint import pprint\n"
   ]
  },
  {
   "cell_type": "code",
   "execution_count": 2,
   "metadata": {},
   "outputs": [],
   "source": [
    "# read in data into dataframes \n",
    "property_value = pd.read_csv(\"data/property_value.csv\")\n",
    "wage_by_gender = pd.read_csv(\"data/wage_by_gender_in_common_jobs.csv\")\n",
    "wage_by_race = pd.read_csv(\"data/wage_by_race_and_ethnicity_in_common_jobs.csv\")\n",
    "employment_by_industry = pd.read_csv(\"data/employment_by_industries.csv\")\n",
    "demographics = pd.read_csv(\"data/tdc_download_tool.csv\")"
   ]
  },
  {
   "cell_type": "code",
   "execution_count": 3,
   "metadata": {},
   "outputs": [],
   "source": [
    "# grab columns we want about propery data \n",
    "property_value_cleaned = property_value[['ID Value Bucket',\n",
    "                'Value Bucket',\n",
    "               'Year',\n",
    "               'Property Value by Bucket',\n",
    "               'Property Value by Bucket Moe',\n",
    "               'Geography',\n",
    "               'share']]\n",
    "property_value_cleaned.head()\n",
    "\n",
    "#convert to csv\n",
    "property_value_cleaned.to_csv(\"data/property_value_cleaned.csv\")"
   ]
  },
  {
   "cell_type": "code",
   "execution_count": 4,
   "metadata": {},
   "outputs": [],
   "source": [
    "# grab columns we want about wage by gender data \n",
    "wage_by_gender_cleaned = wage_by_gender[[\"Gender\",\n",
    "                \"Year\",\n",
    "               \"Detailed Occupation\",\n",
    "               \"Average Wage\",\n",
    "               \"Average Wage Appx MOE\",\n",
    "               \"Total Population\",\n",
    "               \"Total Population MOE Appx\",\n",
    "                \"Geography\"]]\n",
    "\n",
    "#grab columns we want about wage by race data \n",
    "wage_by_race_cleaned = wage_by_race[[\"Race\",\n",
    "             \"Year\",\n",
    "             \"Detailed Occupation\",\n",
    "             \"Average Wage\",\n",
    "             \"Average Wage Appx MOE\",\n",
    "             \"Total Population\",\n",
    "             \"Total Population MOE Appx\",\n",
    "             \"Geography\"]]\n",
    "\n",
    "#convert to csv\n",
    "wage_by_gender_cleaned.to_csv(\"data/wage_by_gender_cleaned.csv\")\n",
    "wage_by_race_cleaned.to_csv(\"data/wage_by_race_cleaned.csv\")"
   ]
  },
  {
   "cell_type": "code",
   "execution_count": 5,
   "metadata": {},
   "outputs": [
    {
     "name": "stdout",
     "output_type": "stream",
     "text": [
      "Year                int64\n",
      "Age                object\n",
      "White Male          int32\n",
      "White Female        int32\n",
      "Black Male          int32\n",
      "Black Female        int32\n",
      "Hispanic Male       int32\n",
      "Hispanic Female     int32\n",
      "dtype: object\n"
     ]
    }
   ],
   "source": [
    "#clean up demographics data \n",
    "demographics_cleaned = demographics\n",
    "demographics_cleaned[\"White Male\"] = demographics_cleaned[\"White Male\"].str.replace(',','')\n",
    "demographics_cleaned[\"White Male\"] = demographics_cleaned[\"White Male\"].astype(int)\n",
    "demographics_cleaned[\"White Female\"] = demographics_cleaned[\"White Female\"].str.replace(',','')\n",
    "demographics_cleaned[\"White Female\"] = demographics_cleaned[\"White Female\"].astype(int)\n",
    "demographics_cleaned[\"Black Male\"] = demographics_cleaned[\"Black Male\"].str.replace(',','')\n",
    "demographics_cleaned[\"Black Male\"] = demographics_cleaned[\"Black Male\"].astype(int)\n",
    "demographics_cleaned[\"Black Female\"] = demographics_cleaned[\"Black Female\"].str.replace(',','')\n",
    "demographics_cleaned[\"Black Female\"] = demographics_cleaned[\"Black Female\"].astype(int)\n",
    "demographics_cleaned[\"Hispanic Male\"] = demographics_cleaned[\"Hispanic Male\"].str.replace(',','')\n",
    "demographics_cleaned[\"Hispanic Male\"] = demographics_cleaned[\"Hispanic Male\"].astype(int)\n",
    "demographics_cleaned[\"Hispanic Female\"] = demographics_cleaned[\"Hispanic Female\"].str.replace(',','')\n",
    "demographics_cleaned[\"Hispanic Female\"] = demographics_cleaned[\"Hispanic Female\"].astype(int)\n",
    "\n",
    "# select relevant columns from data \n",
    "demographics_cleaned = demographics_cleaned[[\"Year\",\n",
    "             \"Age\",\n",
    "             \"White Male\",\n",
    "             \"White Female\",\n",
    "             \"Black Male\",\n",
    "             \"Black Female\",\n",
    "             \"Hispanic Male\",\n",
    "             \"Hispanic Female\"]]\n",
    "# show that values are now numbers \n",
    "print(demographics_cleaned.dtypes)\n",
    "demographics_cleaned.head()\n",
    "\n",
    "#convert to csv\n",
    "demographics_cleaned.to_csv(\"data/demographics_cleaned.csv\")"
   ]
  },
  {
   "cell_type": "code",
   "execution_count": 6,
   "metadata": {},
   "outputs": [],
   "source": [
    "# drop unnecessary industries from data \n",
    "employment_by_industry_cleaned = employment_by_industry.set_index(\"Industry\")\n",
    "employment_by_industry_cleaned = employment_by_industry_cleaned.drop([\"Utilities\", \"Agriculture, Forestry, Fishing & Hunting\", \"Management of Companies & Enterprises\"\n",
    "                ,\"Wholesale Trade\",\"Mining, Quarrying, & Oil & Gas Extraction\",\"Public Administration\",\"Finance & Insurance\"\n",
    "                 ,\"Other Services, Except Public Administration\",\"Administrative & Support & Waste Management Services\"])\n",
    "employment_by_industry_cleaned = employment_by_industry_cleaned.reset_index()\n",
    "employment_by_industry_cleaned.head()\n",
    "\n",
    "# convert to csv \n",
    "employment_by_industry_cleaned.to_csv(\"data/employment_by_industry_cleaned.csv\")"
   ]
  },
  {
   "cell_type": "code",
   "execution_count": null,
   "metadata": {},
   "outputs": [],
   "source": []
  }
 ],
 "metadata": {
  "kernelspec": {
   "display_name": "Python 3",
   "language": "python",
   "name": "python3"
  },
  "language_info": {
   "codemirror_mode": {
    "name": "ipython",
    "version": 3
   },
   "file_extension": ".py",
   "mimetype": "text/x-python",
   "name": "python",
   "nbconvert_exporter": "python",
   "pygments_lexer": "ipython3",
   "version": "3.7.1"
  }
 },
 "nbformat": 4,
 "nbformat_minor": 2
}
